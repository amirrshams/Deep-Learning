{
  "nbformat": 4,
  "nbformat_minor": 0,
  "metadata": {
    "direction": "rtl",
    "kernelspec": {
      "display_name": "Python 3",
      "language": "python",
      "name": "python3"
    },
    "language_info": {
      "codemirror_mode": {
        "name": "ipython",
        "version": 3
      },
      "file_extension": ".py",
      "mimetype": "text/x-python",
      "name": "python",
      "nbconvert_exporter": "python",
      "pygments_lexer": "ipython3",
      "version": "3.8.5"
    },
    "colab": {
      "name": "Face Recognition.ipynb",
      "provenance": []
    }
  },
  "cells": [
    {
      "cell_type": "markdown",
      "metadata": {
        "direction": "rtl",
        "id": "JcJMUE9wBUmt"
      },
      "source": [
        "# پروژه تشخیص چهره توسط شبکه‌های عصبی\n",
        "## توسط امیررضا شمس‌الهدائي"
      ]
    },
    {
      "cell_type": "markdown",
      "metadata": {
        "id": "R0iIL4KHBuAY"
      },
      "source": [
        "# Step 1:\n",
        "## Packages"
      ]
    },
    {
      "cell_type": "code",
      "metadata": {
        "id": "6W9wXoO9Btsn"
      },
      "source": [
        "import keras\n",
        "from keras.models import Sequential #Stacking The Layers\n",
        "from keras.layers import Conv2D, MaxPooling2D, AveragePooling2D, Dense, Flatten, Dropout, Activation\n",
        "from keras.optimizers import Adam #Adam Optimizer\n",
        "from keras.utils import np_utils #numpy utilities\n",
        "\n",
        "import numpy as np #linear Algebra\n",
        "import pandas as pd #Data Processing\n",
        "import matplotlib.pyplot as plt #Plotting the result\n",
        "import itertools #Functions creating iterators for efficient looping\n",
        "\n",
        "from sklearn.model_selection import train_test_split #Skit Learn Library for machine Learning, Splitting Train and Test Datasets\n"
      ],
      "execution_count": null,
      "outputs": []
    }
  ]
}
