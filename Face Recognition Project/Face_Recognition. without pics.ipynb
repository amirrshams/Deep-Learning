{
  "nbformat": 4,
  "nbformat_minor": 0,
  "metadata": {
    "colab": {
      "name": "Face Recognition.ipynb",
      "provenance": [],
      "collapsed_sections": [
        "HjU6kdYtZVi4"
      ]
    },
    "direction": "rtl",
    "kernelspec": {
      "display_name": "Python 3",
      "language": "python",
      "name": "python3"
    },
    "language_info": {
      "codemirror_mode": {
        "name": "ipython",
        "version": 3
      },
      "file_extension": ".py",
      "mimetype": "text/x-python",
      "name": "python",
      "nbconvert_exporter": "python",
      "pygments_lexer": "ipython3",
      "version": "3.8.5"
    }
  },
  "cells": [
    {
      "cell_type": "markdown",
      "metadata": {
        "id": "JcJMUE9wBUmt"
      },
      "source": [
        "# Face Recognition using Convolutional neural networks\n",
        "### By Amirreza Shamsolhodaei"
      ]
    },
    {
      "cell_type": "markdown",
      "metadata": {
        "id": "R0iIL4KHBuAY"
      },
      "source": [
        "# Step 1:\n",
        "## Packages"
      ]
    },
    {
      "cell_type": "code",
      "metadata": {
        "id": "6W9wXoO9Btsn"
      },
      "source": [
        "import keras\n",
        "from keras.models import Sequential #Stacking The Layers\n",
        "from keras.layers import Conv2D, MaxPooling2D, AveragePooling2D, Dense, Flatten, Dropout, Activation\n",
        "from keras.optimizers import Adam #Adam Optimizer\n",
        "from keras.utils import np_utils #numpy utilities\n",
        "from keras.callbacks import TensorBoard\n",
        "\n",
        "import numpy as np #linear Algebra\n",
        "import pandas as pd #Data Processing\n",
        "import tensorflow as tf #tensorflow\n",
        "import matplotlib.pyplot as plt #Plotting the result\n",
        "import itertools #Functions creating iterators for efficient looping\n",
        " \n",
        "from sklearn.model_selection import train_test_split #Skit Learn Library for machine Learning, Splitting Train and Test Datasets\n",
        "from google.colab import files\n",
        "%matplotlib inline"
      ],
      "execution_count": 3,
      "outputs": []
    },
    {
      "cell_type": "markdown",
      "metadata": {
        "id": "z7fQj2LJGUKV"
      },
      "source": [
        "# Step 2:\n",
        "## Loading the dataset"
      ]
    },
    {
      "cell_type": "code",
      "metadata": {
        "colab": {
          "base_uri": "https://localhost:8080/"
        },
        "id": "AgkovoUMHuWg",
        "outputId": "0fb2d6d7-84c9-4eff-bc97-711f716d4443"
      },
      "source": [
        "Dataset = np.load(\"/content/ORL_faces.npz\")\n",
        "Dataset.files"
      ],
      "execution_count": 4,
      "outputs": [
        {
          "output_type": "execute_result",
          "data": {
            "text/plain": [
              "['testY', 'testX', 'trainX', 'trainY']"
            ]
          },
          "metadata": {
            "tags": []
          },
          "execution_count": 4
        }
      ]
    },
    {
      "cell_type": "code",
      "metadata": {
        "id": "zmB684FiOKQS"
      },
      "source": [
        "#Loading train images\n",
        "x_train = Dataset['trainX']\n",
        "#Normalizing train images\n",
        "x_train = np.array(x_train,dtype='float32') / 255\n",
        "\n",
        "#Loading test images\n",
        "x_test = Dataset['testX']\n",
        "#Normalizing test images\n",
        "x_test = np.array(x_test,dtype='float32') / 255\n",
        "\n",
        "#Loading the label of the images\n",
        "y_train = Dataset['trainY']\n",
        "y_test = Dataset['testY']"
      ],
      "execution_count": 5,
      "outputs": []
    },
    {
      "cell_type": "code",
      "metadata": {
        "colab": {
          "base_uri": "https://localhost:8080/"
        },
        "id": "3ktKqtVIJScG",
        "outputId": "a7e3a13f-f465-45e5-9b98-caeed66f005a"
      },
      "source": [
        "print('training images shape: \\t', x_train.shape)\n",
        "print('training labels shape: \\t', y_train.shape)\n",
        "print('test images shape: \\t', x_test.shape)\n",
        "print('test labels shape: \\t', y_test.shape)\n"
      ],
      "execution_count": 6,
      "outputs": [
        {
          "output_type": "stream",
          "text": [
            "training images shape: \t (240, 10304)\n",
            "training labels shape: \t (240,)\n",
            "test images shape: \t (160, 10304)\n",
            "test labels shape: \t (160,)\n"
          ],
          "name": "stdout"
        }
      ]
    },
    {
      "cell_type": "code",
      "metadata": {
        "colab": {
          "base_uri": "https://localhost:8080/"
        },
        "id": "PSDHEX5nOEHt",
        "outputId": "fd4a08fd-524e-4a2d-fb45-5bd174a98a68"
      },
      "source": [
        "#Showing the train and test data formats\n",
        "print('training images: \\n', x_train)\n",
        "print('test images: \\n', x_test)\n",
        "print('training labels shape: \\n', y_train)\n",
        "print('test labels shape: \\n', y_test)"
      ],
      "execution_count": 7,
      "outputs": [
        {
          "output_type": "stream",
          "text": [
            "training images: \n",
            " [[0.1882353  0.19215687 0.1764706  ... 0.18431373 0.18039216 0.18039216]\n",
            " [0.23529412 0.23529412 0.24313726 ... 0.1254902  0.13333334 0.13333334]\n",
            " [0.15294118 0.17254902 0.20784314 ... 0.11372549 0.10196079 0.11372549]\n",
            " ...\n",
            " [0.44705883 0.45882353 0.44705883 ... 0.38431373 0.3764706  0.38431373]\n",
            " [0.4117647  0.4117647  0.41960785 ... 0.21176471 0.18431373 0.16078432]\n",
            " [0.45490196 0.44705883 0.45882353 ... 0.37254903 0.39215687 0.39607844]]\n",
            "test images: \n",
            " [[0.16078432 0.18431373 0.18431373 ... 0.13725491 0.14509805 0.14901961]\n",
            " [0.17254902 0.16862746 0.1254902  ... 0.16862746 0.16862746 0.14509805]\n",
            " [0.16470589 0.16078432 0.17254902 ... 0.16470589 0.16862746 0.16078432]\n",
            " ...\n",
            " [0.39607844 0.39215687 0.40392157 ... 0.12156863 0.15686275 0.16470589]\n",
            " [0.4117647  0.42352942 0.41568628 ... 0.17254902 0.15686275 0.18431373]\n",
            " [0.44313726 0.44705883 0.43529412 ... 0.24313726 0.31764707 0.34901962]]\n",
            "training labels shape: \n",
            " [ 0  0  0  0  0  0  0  0  0  0  0  0  1  1  1  1  1  1  1  1  1  1  1  1\n",
            "  2  2  2  2  2  2  2  2  2  2  2  2  3  3  3  3  3  3  3  3  3  3  3  3\n",
            "  4  4  4  4  4  4  4  4  4  4  4  4  5  5  5  5  5  5  5  5  5  5  5  5\n",
            "  6  6  6  6  6  6  6  6  6  6  6  6  7  7  7  7  7  7  7  7  7  7  7  7\n",
            "  8  8  8  8  8  8  8  8  8  8  8  8  9  9  9  9  9  9  9  9  9  9  9  9\n",
            " 10 10 10 10 10 10 10 10 10 10 10 10 11 11 11 11 11 11 11 11 11 11 11 11\n",
            " 12 12 12 12 12 12 12 12 12 12 12 12 13 13 13 13 13 13 13 13 13 13 13 13\n",
            " 14 14 14 14 14 14 14 14 14 14 14 14 15 15 15 15 15 15 15 15 15 15 15 15\n",
            " 16 16 16 16 16 16 16 16 16 16 16 16 17 17 17 17 17 17 17 17 17 17 17 17\n",
            " 18 18 18 18 18 18 18 18 18 18 18 18 19 19 19 19 19 19 19 19 19 19 19 19]\n",
            "test labels shape: \n",
            " [ 0  0  0  0  0  0  0  0  1  1  1  1  1  1  1  1  2  2  2  2  2  2  2  2\n",
            "  3  3  3  3  3  3  3  3  4  4  4  4  4  4  4  4  5  5  5  5  5  5  5  5\n",
            "  6  6  6  6  6  6  6  6  7  7  7  7  7  7  7  7  8  8  8  8  8  8  8  8\n",
            "  9  9  9  9  9  9  9  9 10 10 10 10 10 10 10 10 11 11 11 11 11 11 11 11\n",
            " 12 12 12 12 12 12 12 12 13 13 13 13 13 13 13 13 14 14 14 14 14 14 14 14\n",
            " 15 15 15 15 15 15 15 15 16 16 16 16 16 16 16 16 17 17 17 17 17 17 17 17\n",
            " 18 18 18 18 18 18 18 18 19 19 19 19 19 19 19 19]\n"
          ],
          "name": "stdout"
        }
      ]
    },
    {
      "cell_type": "markdown",
      "metadata": {
        "id": "HjU6kdYtZVi4"
      },
      "source": [
        "\n",
        "## Showing the images\n",
        "commented because of Github's restrictions"
      ]
    },
    {
      "cell_type": "code",
      "metadata": {
        "id": "QsdyVtapWxSq",
        "colab": {
          "base_uri": "https://localhost:8080/",
          "height": 35
        },
        "outputId": "189e194d-88a3-4884-8864-91ea432a4590"
      },
      "source": [
        "\"\"\"\n",
        "X = np.reshape(Dataset['trainX'], (240, 112, 92))\n",
        "Y = Dataset['trainY']\n",
        "X_test = np.reshape(Dataset['testX'], (160, 112, 92))\n",
        "Y_test = Dataset['testY']\n",
        "\"\"\""
      ],
      "execution_count": 34,
      "outputs": [
        {
          "output_type": "execute_result",
          "data": {
            "application/vnd.google.colaboratory.intrinsic+json": {
              "type": "string"
            },
            "text/plain": [
              "\"\\nX = np.reshape(Dataset['trainX'], (240, 112, 92))\\nY = Dataset['trainY']\\nX_test = np.reshape(Dataset['testX'], (160, 112, 92))\\nY_test = Dataset['testY']\\n\""
            ]
          },
          "metadata": {
            "tags": []
          },
          "execution_count": 34
        }
      ]
    },
    {
      "cell_type": "code",
      "metadata": {
        "id": "xDae5e3vQRRO",
        "colab": {
          "base_uri": "https://localhost:8080/",
          "height": 35
        },
        "outputId": "d9abae0e-7694-449f-d059-6c2fd6c3321c"
      },
      "source": [
        "\"\"\"\n",
        "def show_images(images):\n",
        "    n = len(images)\n",
        "    for i in range(n):\n",
        "        plt.figure()\n",
        "        plt.imshow(images[i])\n",
        "\"\"\""
      ],
      "execution_count": 36,
      "outputs": [
        {
          "output_type": "execute_result",
          "data": {
            "application/vnd.google.colaboratory.intrinsic+json": {
              "type": "string"
            },
            "text/plain": [
              "'\\ndef show_images(images):\\n    n = len(images)\\n    for i in range(n):\\n        plt.figure()\\n        plt.imshow(images[i])\\n'"
            ]
          },
          "metadata": {
            "tags": []
          },
          "execution_count": 36
        }
      ]
    },
    {
      "cell_type": "markdown",
      "metadata": {
        "id": "RXM3lQmrXqRn"
      },
      "source": [
        " Training Images"
      ]
    },
    {
      "cell_type": "code",
      "metadata": {
        "id": "66tJUCGxY7KT"
      },
      "source": [
        "#show_images(X)"
      ],
      "execution_count": 37,
      "outputs": []
    },
    {
      "cell_type": "markdown",
      "metadata": {
        "id": "DvA0Ah1xX8MN"
      },
      "source": [
        " Test images"
      ]
    },
    {
      "cell_type": "code",
      "metadata": {
        "id": "6YgX83e5YGd_"
      },
      "source": [
        "#show_images(X_test)"
      ],
      "execution_count": 38,
      "outputs": []
    },
    {
      "cell_type": "markdown",
      "metadata": {
        "id": "yA0hYBkjhe7g"
      },
      "source": [
        "# Step 3:\n",
        "## Data Validation and Reshaping the images"
      ]
    },
    {
      "cell_type": "code",
      "metadata": {
        "id": "dqU0R6ZhiTna"
      },
      "source": [
        "x_train, x_valid, y_train, y_valid= train_test_split(x_train, y_train, test_size=0.05, random_state=1234)"
      ],
      "execution_count": 8,
      "outputs": []
    },
    {
      "cell_type": "code",
      "metadata": {
        "colab": {
          "base_uri": "https://localhost:8080/"
        },
        "id": "VGFx6Cdrh8Dh",
        "outputId": "a576c0f5-0e72-4c8c-9cea-4bd37a0ca5da"
      },
      "source": [
        "image_shape = (112, 92, 1)\n",
        "batch_size = 512\n",
        "x_train = x_train.reshape(x_train.shape[0], *image_shape)\n",
        "x_test = x_test.reshape(x_test.shape[0], *image_shape)\n",
        "x_valid = x_valid.reshape(x_valid.shape[0], *image_shape)\n",
        "\n",
        "print('x_train shape: ',y_train.shape[0])\n",
        "print('x_test shape: ',y_test.shape)"
      ],
      "execution_count": 9,
      "outputs": [
        {
          "output_type": "stream",
          "text": [
            "x_train shape:  228\n",
            "x_test shape:  (160,)\n"
          ],
          "name": "stdout"
        }
      ]
    },
    {
      "cell_type": "markdown",
      "metadata": {
        "id": "4PRAsz9Nj0GV"
      },
      "source": [
        "## Step 4:\n",
        "## Creating CNN model"
      ]
    },
    {
      "cell_type": "code",
      "metadata": {
        "id": "ZstE-DnHvURS"
      },
      "source": [
        "model= Sequential([\n",
        "    Conv2D(filters = 36, kernel_size = 7, strides = (1, 1), padding='valid', activation = 'relu', kernel_initializer='glorot_uniform', input_shape = image_shape),\n",
        "    AveragePooling2D(pool_size=2),\n",
        "    Conv2D(filters = 54, kernel_size = 5, strides = (1, 1), padding='valid', activation = 'relu', kernel_initializer='glorot_uniform', input_shape = image_shape),\n",
        "    AveragePooling2D(pool_size=2),\n",
        "    Flatten(),\n",
        "    Dense(units = 2024, activation='relu'),\n",
        "    Dropout(0.5),\n",
        "    Dense(units = 1024, activation='relu'),\n",
        "    Dropout(0.5),\n",
        "    Dense(units = 512, activation='relu'),\n",
        "    Dropout(0.5),\n",
        "    Dense(units = 20, activation='softmax')  \n",
        "])\n",
        "\n",
        "model.compile(\n",
        "    loss = 'sparse_categorical_crossentropy', \n",
        "    optimizer = Adam(learning_rate = 0.0001), \n",
        "    metrics= ['accuracy']\n",
        ")"
      ],
      "execution_count": 14,
      "outputs": []
    },
    {
      "cell_type": "markdown",
      "metadata": {
        "id": "mMGSjbypkfJg"
      },
      "source": [
        "Model's parameters"
      ]
    },
    {
      "cell_type": "code",
      "metadata": {
        "colab": {
          "base_uri": "https://localhost:8080/"
        },
        "id": "zTGWIuBykXaI",
        "outputId": "e619bd61-b7de-436f-d322-62c390e37352"
      },
      "source": [
        "model.summary()"
      ],
      "execution_count": 11,
      "outputs": [
        {
          "output_type": "stream",
          "text": [
            "Model: \"sequential\"\n",
            "_________________________________________________________________\n",
            "Layer (type)                 Output Shape              Param #   \n",
            "=================================================================\n",
            "conv2d (Conv2D)              (None, 106, 86, 36)       1800      \n",
            "_________________________________________________________________\n",
            "average_pooling2d (AveragePo (None, 53, 43, 36)        0         \n",
            "_________________________________________________________________\n",
            "conv2d_1 (Conv2D)            (None, 49, 39, 54)        48654     \n",
            "_________________________________________________________________\n",
            "average_pooling2d_1 (Average (None, 24, 19, 54)        0         \n",
            "_________________________________________________________________\n",
            "flatten (Flatten)            (None, 24624)             0         \n",
            "_________________________________________________________________\n",
            "dense (Dense)                (None, 2024)              49841000  \n",
            "_________________________________________________________________\n",
            "dropout (Dropout)            (None, 2024)              0         \n",
            "_________________________________________________________________\n",
            "dense_1 (Dense)              (None, 1024)              2073600   \n",
            "_________________________________________________________________\n",
            "dropout_1 (Dropout)          (None, 1024)              0         \n",
            "_________________________________________________________________\n",
            "dense_2 (Dense)              (None, 512)               524800    \n",
            "_________________________________________________________________\n",
            "dropout_2 (Dropout)          (None, 512)               0         \n",
            "_________________________________________________________________\n",
            "dense_3 (Dense)              (None, 20)                10260     \n",
            "=================================================================\n",
            "Total params: 52,500,114\n",
            "Trainable params: 52,500,114\n",
            "Non-trainable params: 0\n",
            "_________________________________________________________________\n"
          ],
          "name": "stdout"
        }
      ]
    },
    {
      "cell_type": "markdown",
      "metadata": {
        "id": "CWDukd6gkwMQ"
      },
      "source": [
        "# Step 5\n",
        "### Training the model"
      ]
    },
    {
      "cell_type": "code",
      "metadata": {
        "colab": {
          "base_uri": "https://localhost:8080/"
        },
        "id": "g9hrRHRwk3XM",
        "outputId": "d3f00af9-97c2-48f0-8e0a-a3bd6fd9eb96"
      },
      "source": [
        "training = model.fit(\n",
        "    np.array(x_train), np.array(y_train), batch_size = 512,\n",
        "    epochs = 250, verbose = 2, \n",
        "    validation_data = (np.array(x_valid), np.array(y_valid)),\n",
        ")"
      ],
      "execution_count": 23,
      "outputs": [
        {
          "output_type": "stream",
          "text": [
            "Epoch 1/250\n",
            "1/1 - 7s - loss: 1.9121 - accuracy: 0.4737 - val_loss: 1.7789 - val_accuracy: 0.5833\n",
            "Epoch 2/250\n",
            "1/1 - 7s - loss: 1.8965 - accuracy: 0.4298 - val_loss: 1.7096 - val_accuracy: 0.5833\n",
            "Epoch 3/250\n",
            "1/1 - 6s - loss: 1.8702 - accuracy: 0.4430 - val_loss: 1.6638 - val_accuracy: 0.5833\n",
            "Epoch 4/250\n",
            "1/1 - 7s - loss: 1.8382 - accuracy: 0.3816 - val_loss: 1.6334 - val_accuracy: 0.5833\n",
            "Epoch 5/250\n",
            "1/1 - 6s - loss: 1.7878 - accuracy: 0.4561 - val_loss: 1.6013 - val_accuracy: 0.5833\n",
            "Epoch 6/250\n",
            "1/1 - 6s - loss: 1.7153 - accuracy: 0.4649 - val_loss: 1.5552 - val_accuracy: 0.5833\n",
            "Epoch 7/250\n",
            "1/1 - 6s - loss: 1.7017 - accuracy: 0.4693 - val_loss: 1.4853 - val_accuracy: 0.5833\n",
            "Epoch 8/250\n",
            "1/1 - 7s - loss: 1.6429 - accuracy: 0.5132 - val_loss: 1.3883 - val_accuracy: 0.5833\n",
            "Epoch 9/250\n",
            "1/1 - 7s - loss: 1.5869 - accuracy: 0.5439 - val_loss: 1.2993 - val_accuracy: 0.6667\n",
            "Epoch 10/250\n",
            "1/1 - 6s - loss: 1.5051 - accuracy: 0.5307 - val_loss: 1.2278 - val_accuracy: 0.6667\n",
            "Epoch 11/250\n",
            "1/1 - 7s - loss: 1.4620 - accuracy: 0.5965 - val_loss: 1.1710 - val_accuracy: 0.7500\n",
            "Epoch 12/250\n",
            "1/1 - 6s - loss: 1.3938 - accuracy: 0.6140 - val_loss: 1.1175 - val_accuracy: 0.7500\n",
            "Epoch 13/250\n",
            "1/1 - 7s - loss: 1.3305 - accuracy: 0.6272 - val_loss: 1.0440 - val_accuracy: 0.7500\n",
            "Epoch 14/250\n",
            "1/1 - 6s - loss: 1.3494 - accuracy: 0.5570 - val_loss: 0.9654 - val_accuracy: 0.8333\n",
            "Epoch 15/250\n",
            "1/1 - 7s - loss: 1.2323 - accuracy: 0.6447 - val_loss: 0.9138 - val_accuracy: 0.9167\n",
            "Epoch 16/250\n",
            "1/1 - 7s - loss: 1.2925 - accuracy: 0.6096 - val_loss: 0.8779 - val_accuracy: 0.8333\n",
            "Epoch 17/250\n",
            "1/1 - 7s - loss: 1.1006 - accuracy: 0.6623 - val_loss: 0.8285 - val_accuracy: 0.9167\n",
            "Epoch 18/250\n",
            "1/1 - 6s - loss: 1.1080 - accuracy: 0.6711 - val_loss: 0.7708 - val_accuracy: 0.9167\n",
            "Epoch 19/250\n",
            "1/1 - 7s - loss: 0.9906 - accuracy: 0.7193 - val_loss: 0.7216 - val_accuracy: 0.9167\n",
            "Epoch 20/250\n",
            "1/1 - 6s - loss: 1.0511 - accuracy: 0.6711 - val_loss: 0.6687 - val_accuracy: 0.9167\n",
            "Epoch 21/250\n",
            "1/1 - 7s - loss: 1.0020 - accuracy: 0.6930 - val_loss: 0.6368 - val_accuracy: 0.9167\n",
            "Epoch 22/250\n",
            "1/1 - 7s - loss: 0.9480 - accuracy: 0.6974 - val_loss: 0.6090 - val_accuracy: 0.9167\n",
            "Epoch 23/250\n",
            "1/1 - 7s - loss: 0.9152 - accuracy: 0.7061 - val_loss: 0.5909 - val_accuracy: 0.9167\n",
            "Epoch 24/250\n",
            "1/1 - 7s - loss: 0.8582 - accuracy: 0.7456 - val_loss: 0.5566 - val_accuracy: 0.9167\n",
            "Epoch 25/250\n",
            "1/1 - 6s - loss: 0.7985 - accuracy: 0.7544 - val_loss: 0.5122 - val_accuracy: 0.9167\n",
            "Epoch 26/250\n",
            "1/1 - 6s - loss: 0.8053 - accuracy: 0.7763 - val_loss: 0.4884 - val_accuracy: 0.9167\n",
            "Epoch 27/250\n",
            "1/1 - 7s - loss: 0.7342 - accuracy: 0.7851 - val_loss: 0.4701 - val_accuracy: 0.9167\n",
            "Epoch 28/250\n",
            "1/1 - 6s - loss: 0.7843 - accuracy: 0.7456 - val_loss: 0.4515 - val_accuracy: 0.9167\n",
            "Epoch 29/250\n",
            "1/1 - 7s - loss: 0.6809 - accuracy: 0.8070 - val_loss: 0.3920 - val_accuracy: 1.0000\n",
            "Epoch 30/250\n",
            "1/1 - 6s - loss: 0.6719 - accuracy: 0.8114 - val_loss: 0.3426 - val_accuracy: 1.0000\n",
            "Epoch 31/250\n",
            "1/1 - 7s - loss: 0.7038 - accuracy: 0.8202 - val_loss: 0.3388 - val_accuracy: 1.0000\n",
            "Epoch 32/250\n",
            "1/1 - 6s - loss: 0.6917 - accuracy: 0.7939 - val_loss: 0.3467 - val_accuracy: 0.9167\n",
            "Epoch 33/250\n",
            "1/1 - 7s - loss: 0.6101 - accuracy: 0.8070 - val_loss: 0.3194 - val_accuracy: 1.0000\n",
            "Epoch 34/250\n",
            "1/1 - 6s - loss: 0.6162 - accuracy: 0.8202 - val_loss: 0.2788 - val_accuracy: 1.0000\n",
            "Epoch 35/250\n",
            "1/1 - 6s - loss: 0.5759 - accuracy: 0.8158 - val_loss: 0.2567 - val_accuracy: 1.0000\n",
            "Epoch 36/250\n",
            "1/1 - 6s - loss: 0.5318 - accuracy: 0.8377 - val_loss: 0.2532 - val_accuracy: 1.0000\n",
            "Epoch 37/250\n",
            "1/1 - 7s - loss: 0.5033 - accuracy: 0.8421 - val_loss: 0.2582 - val_accuracy: 1.0000\n",
            "Epoch 38/250\n",
            "1/1 - 6s - loss: 0.5513 - accuracy: 0.7982 - val_loss: 0.2564 - val_accuracy: 1.0000\n",
            "Epoch 39/250\n",
            "1/1 - 7s - loss: 0.4644 - accuracy: 0.8640 - val_loss: 0.2225 - val_accuracy: 1.0000\n",
            "Epoch 40/250\n",
            "1/1 - 6s - loss: 0.3985 - accuracy: 0.8991 - val_loss: 0.1966 - val_accuracy: 1.0000\n",
            "Epoch 41/250\n",
            "1/1 - 7s - loss: 0.4481 - accuracy: 0.8553 - val_loss: 0.1938 - val_accuracy: 1.0000\n",
            "Epoch 42/250\n",
            "1/1 - 6s - loss: 0.4647 - accuracy: 0.8158 - val_loss: 0.2009 - val_accuracy: 1.0000\n",
            "Epoch 43/250\n",
            "1/1 - 6s - loss: 0.4866 - accuracy: 0.8377 - val_loss: 0.1891 - val_accuracy: 1.0000\n",
            "Epoch 44/250\n",
            "1/1 - 6s - loss: 0.4285 - accuracy: 0.8684 - val_loss: 0.1718 - val_accuracy: 1.0000\n",
            "Epoch 45/250\n",
            "1/1 - 6s - loss: 0.3744 - accuracy: 0.8904 - val_loss: 0.1519 - val_accuracy: 1.0000\n",
            "Epoch 46/250\n",
            "1/1 - 6s - loss: 0.3230 - accuracy: 0.8991 - val_loss: 0.1307 - val_accuracy: 1.0000\n",
            "Epoch 47/250\n",
            "1/1 - 7s - loss: 0.3765 - accuracy: 0.8772 - val_loss: 0.1220 - val_accuracy: 1.0000\n",
            "Epoch 48/250\n",
            "1/1 - 6s - loss: 0.3404 - accuracy: 0.8904 - val_loss: 0.1172 - val_accuracy: 1.0000\n",
            "Epoch 49/250\n",
            "1/1 - 7s - loss: 0.4146 - accuracy: 0.8728 - val_loss: 0.1232 - val_accuracy: 1.0000\n",
            "Epoch 50/250\n",
            "1/1 - 6s - loss: 0.3356 - accuracy: 0.8904 - val_loss: 0.1375 - val_accuracy: 1.0000\n",
            "Epoch 51/250\n",
            "1/1 - 7s - loss: 0.3675 - accuracy: 0.8772 - val_loss: 0.1194 - val_accuracy: 1.0000\n",
            "Epoch 52/250\n",
            "1/1 - 6s - loss: 0.3002 - accuracy: 0.9167 - val_loss: 0.1024 - val_accuracy: 1.0000\n",
            "Epoch 53/250\n",
            "1/1 - 6s - loss: 0.3120 - accuracy: 0.8991 - val_loss: 0.0832 - val_accuracy: 1.0000\n",
            "Epoch 54/250\n",
            "1/1 - 6s - loss: 0.2948 - accuracy: 0.9123 - val_loss: 0.0782 - val_accuracy: 1.0000\n",
            "Epoch 55/250\n",
            "1/1 - 6s - loss: 0.2542 - accuracy: 0.9211 - val_loss: 0.0792 - val_accuracy: 1.0000\n",
            "Epoch 56/250\n",
            "1/1 - 6s - loss: 0.2004 - accuracy: 0.9474 - val_loss: 0.0813 - val_accuracy: 1.0000\n",
            "Epoch 57/250\n",
            "1/1 - 6s - loss: 0.2867 - accuracy: 0.9123 - val_loss: 0.0844 - val_accuracy: 1.0000\n",
            "Epoch 58/250\n",
            "1/1 - 6s - loss: 0.2098 - accuracy: 0.9561 - val_loss: 0.1034 - val_accuracy: 1.0000\n",
            "Epoch 59/250\n",
            "1/1 - 7s - loss: 0.2693 - accuracy: 0.9079 - val_loss: 0.1153 - val_accuracy: 1.0000\n",
            "Epoch 60/250\n",
            "1/1 - 6s - loss: 0.2076 - accuracy: 0.9693 - val_loss: 0.1148 - val_accuracy: 1.0000\n",
            "Epoch 61/250\n",
            "1/1 - 6s - loss: 0.2296 - accuracy: 0.9342 - val_loss: 0.0864 - val_accuracy: 1.0000\n",
            "Epoch 62/250\n",
            "1/1 - 6s - loss: 0.1639 - accuracy: 0.9561 - val_loss: 0.0643 - val_accuracy: 1.0000\n",
            "Epoch 63/250\n",
            "1/1 - 6s - loss: 0.1692 - accuracy: 0.9298 - val_loss: 0.0522 - val_accuracy: 1.0000\n",
            "Epoch 64/250\n",
            "1/1 - 6s - loss: 0.2016 - accuracy: 0.9430 - val_loss: 0.0525 - val_accuracy: 1.0000\n",
            "Epoch 65/250\n",
            "1/1 - 6s - loss: 0.1881 - accuracy: 0.9518 - val_loss: 0.0699 - val_accuracy: 1.0000\n",
            "Epoch 66/250\n",
            "1/1 - 7s - loss: 0.2385 - accuracy: 0.9298 - val_loss: 0.0857 - val_accuracy: 1.0000\n",
            "Epoch 67/250\n",
            "1/1 - 6s - loss: 0.1961 - accuracy: 0.9430 - val_loss: 0.0892 - val_accuracy: 1.0000\n",
            "Epoch 68/250\n",
            "1/1 - 6s - loss: 0.1503 - accuracy: 0.9518 - val_loss: 0.0551 - val_accuracy: 1.0000\n",
            "Epoch 69/250\n",
            "1/1 - 6s - loss: 0.1676 - accuracy: 0.9430 - val_loss: 0.0353 - val_accuracy: 1.0000\n",
            "Epoch 70/250\n",
            "1/1 - 7s - loss: 0.1587 - accuracy: 0.9518 - val_loss: 0.0321 - val_accuracy: 1.0000\n",
            "Epoch 71/250\n",
            "1/1 - 6s - loss: 0.1630 - accuracy: 0.9737 - val_loss: 0.0309 - val_accuracy: 1.0000\n",
            "Epoch 72/250\n",
            "1/1 - 6s - loss: 0.1820 - accuracy: 0.9474 - val_loss: 0.0341 - val_accuracy: 1.0000\n",
            "Epoch 73/250\n",
            "1/1 - 6s - loss: 0.1531 - accuracy: 0.9518 - val_loss: 0.0430 - val_accuracy: 1.0000\n",
            "Epoch 74/250\n",
            "1/1 - 6s - loss: 0.1429 - accuracy: 0.9605 - val_loss: 0.0495 - val_accuracy: 1.0000\n",
            "Epoch 75/250\n",
            "1/1 - 6s - loss: 0.1038 - accuracy: 0.9737 - val_loss: 0.0508 - val_accuracy: 1.0000\n",
            "Epoch 76/250\n",
            "1/1 - 6s - loss: 0.1262 - accuracy: 0.9737 - val_loss: 0.0509 - val_accuracy: 1.0000\n",
            "Epoch 77/250\n",
            "1/1 - 6s - loss: 0.1227 - accuracy: 0.9649 - val_loss: 0.0483 - val_accuracy: 1.0000\n",
            "Epoch 78/250\n",
            "1/1 - 6s - loss: 0.1126 - accuracy: 0.9693 - val_loss: 0.0425 - val_accuracy: 1.0000\n",
            "Epoch 79/250\n",
            "1/1 - 7s - loss: 0.1186 - accuracy: 0.9649 - val_loss: 0.0362 - val_accuracy: 1.0000\n",
            "Epoch 80/250\n",
            "1/1 - 6s - loss: 0.1106 - accuracy: 0.9737 - val_loss: 0.0295 - val_accuracy: 1.0000\n",
            "Epoch 81/250\n",
            "1/1 - 6s - loss: 0.1235 - accuracy: 0.9693 - val_loss: 0.0275 - val_accuracy: 1.0000\n",
            "Epoch 82/250\n",
            "1/1 - 6s - loss: 0.0971 - accuracy: 0.9649 - val_loss: 0.0263 - val_accuracy: 1.0000\n",
            "Epoch 83/250\n",
            "1/1 - 6s - loss: 0.1106 - accuracy: 0.9649 - val_loss: 0.0244 - val_accuracy: 1.0000\n",
            "Epoch 84/250\n",
            "1/1 - 6s - loss: 0.0793 - accuracy: 0.9781 - val_loss: 0.0217 - val_accuracy: 1.0000\n",
            "Epoch 85/250\n",
            "1/1 - 6s - loss: 0.1056 - accuracy: 0.9693 - val_loss: 0.0190 - val_accuracy: 1.0000\n",
            "Epoch 86/250\n",
            "1/1 - 6s - loss: 0.1127 - accuracy: 0.9561 - val_loss: 0.0219 - val_accuracy: 1.0000\n",
            "Epoch 87/250\n",
            "1/1 - 6s - loss: 0.1097 - accuracy: 0.9649 - val_loss: 0.0218 - val_accuracy: 1.0000\n",
            "Epoch 88/250\n",
            "1/1 - 6s - loss: 0.0951 - accuracy: 0.9737 - val_loss: 0.0195 - val_accuracy: 1.0000\n",
            "Epoch 89/250\n",
            "1/1 - 6s - loss: 0.1071 - accuracy: 0.9781 - val_loss: 0.0160 - val_accuracy: 1.0000\n",
            "Epoch 90/250\n",
            "1/1 - 6s - loss: 0.0960 - accuracy: 0.9825 - val_loss: 0.0149 - val_accuracy: 1.0000\n",
            "Epoch 91/250\n",
            "1/1 - 6s - loss: 0.0499 - accuracy: 1.0000 - val_loss: 0.0148 - val_accuracy: 1.0000\n",
            "Epoch 92/250\n",
            "1/1 - 6s - loss: 0.1001 - accuracy: 0.9693 - val_loss: 0.0173 - val_accuracy: 1.0000\n",
            "Epoch 93/250\n",
            "1/1 - 6s - loss: 0.0664 - accuracy: 0.9868 - val_loss: 0.0213 - val_accuracy: 1.0000\n",
            "Epoch 94/250\n",
            "1/1 - 6s - loss: 0.0838 - accuracy: 0.9737 - val_loss: 0.0214 - val_accuracy: 1.0000\n",
            "Epoch 95/250\n",
            "1/1 - 6s - loss: 0.0656 - accuracy: 0.9912 - val_loss: 0.0199 - val_accuracy: 1.0000\n",
            "Epoch 96/250\n",
            "1/1 - 6s - loss: 0.0637 - accuracy: 0.9912 - val_loss: 0.0187 - val_accuracy: 1.0000\n",
            "Epoch 97/250\n",
            "1/1 - 6s - loss: 0.0702 - accuracy: 0.9825 - val_loss: 0.0202 - val_accuracy: 1.0000\n",
            "Epoch 98/250\n",
            "1/1 - 6s - loss: 0.0762 - accuracy: 0.9825 - val_loss: 0.0189 - val_accuracy: 1.0000\n",
            "Epoch 99/250\n",
            "1/1 - 6s - loss: 0.0519 - accuracy: 0.9825 - val_loss: 0.0164 - val_accuracy: 1.0000\n",
            "Epoch 100/250\n",
            "1/1 - 6s - loss: 0.0934 - accuracy: 0.9737 - val_loss: 0.0131 - val_accuracy: 1.0000\n",
            "Epoch 101/250\n",
            "1/1 - 6s - loss: 0.0657 - accuracy: 0.9825 - val_loss: 0.0105 - val_accuracy: 1.0000\n",
            "Epoch 102/250\n",
            "1/1 - 6s - loss: 0.0831 - accuracy: 0.9737 - val_loss: 0.0094 - val_accuracy: 1.0000\n",
            "Epoch 103/250\n",
            "1/1 - 6s - loss: 0.0804 - accuracy: 0.9781 - val_loss: 0.0147 - val_accuracy: 1.0000\n",
            "Epoch 104/250\n",
            "1/1 - 6s - loss: 0.0773 - accuracy: 0.9825 - val_loss: 0.0224 - val_accuracy: 1.0000\n",
            "Epoch 105/250\n",
            "1/1 - 6s - loss: 0.0686 - accuracy: 0.9825 - val_loss: 0.0239 - val_accuracy: 1.0000\n",
            "Epoch 106/250\n",
            "1/1 - 6s - loss: 0.0499 - accuracy: 1.0000 - val_loss: 0.0203 - val_accuracy: 1.0000\n",
            "Epoch 107/250\n",
            "1/1 - 6s - loss: 0.0420 - accuracy: 0.9956 - val_loss: 0.0141 - val_accuracy: 1.0000\n",
            "Epoch 108/250\n",
            "1/1 - 6s - loss: 0.0449 - accuracy: 0.9956 - val_loss: 0.0097 - val_accuracy: 1.0000\n",
            "Epoch 109/250\n",
            "1/1 - 6s - loss: 0.0463 - accuracy: 0.9956 - val_loss: 0.0065 - val_accuracy: 1.0000\n",
            "Epoch 110/250\n",
            "1/1 - 6s - loss: 0.0765 - accuracy: 0.9781 - val_loss: 0.0057 - val_accuracy: 1.0000\n",
            "Epoch 111/250\n",
            "1/1 - 6s - loss: 0.0643 - accuracy: 0.9737 - val_loss: 0.0059 - val_accuracy: 1.0000\n",
            "Epoch 112/250\n",
            "1/1 - 6s - loss: 0.0477 - accuracy: 0.9868 - val_loss: 0.0070 - val_accuracy: 1.0000\n",
            "Epoch 113/250\n",
            "1/1 - 6s - loss: 0.0649 - accuracy: 0.9693 - val_loss: 0.0091 - val_accuracy: 1.0000\n",
            "Epoch 114/250\n",
            "1/1 - 6s - loss: 0.0614 - accuracy: 0.9825 - val_loss: 0.0123 - val_accuracy: 1.0000\n",
            "Epoch 115/250\n",
            "1/1 - 7s - loss: 0.0384 - accuracy: 0.9912 - val_loss: 0.0139 - val_accuracy: 1.0000\n",
            "Epoch 116/250\n",
            "1/1 - 6s - loss: 0.0508 - accuracy: 0.9956 - val_loss: 0.0135 - val_accuracy: 1.0000\n",
            "Epoch 117/250\n",
            "1/1 - 6s - loss: 0.0480 - accuracy: 0.9868 - val_loss: 0.0098 - val_accuracy: 1.0000\n",
            "Epoch 118/250\n",
            "1/1 - 6s - loss: 0.0781 - accuracy: 0.9781 - val_loss: 0.0060 - val_accuracy: 1.0000\n",
            "Epoch 119/250\n",
            "1/1 - 6s - loss: 0.0510 - accuracy: 0.9868 - val_loss: 0.0048 - val_accuracy: 1.0000\n",
            "Epoch 120/250\n",
            "1/1 - 6s - loss: 0.0441 - accuracy: 0.9868 - val_loss: 0.0047 - val_accuracy: 1.0000\n",
            "Epoch 121/250\n",
            "1/1 - 7s - loss: 0.0617 - accuracy: 0.9868 - val_loss: 0.0046 - val_accuracy: 1.0000\n",
            "Epoch 122/250\n",
            "1/1 - 6s - loss: 0.0408 - accuracy: 0.9912 - val_loss: 0.0047 - val_accuracy: 1.0000\n",
            "Epoch 123/250\n",
            "1/1 - 6s - loss: 0.0535 - accuracy: 0.9868 - val_loss: 0.0052 - val_accuracy: 1.0000\n",
            "Epoch 124/250\n",
            "1/1 - 6s - loss: 0.0348 - accuracy: 1.0000 - val_loss: 0.0064 - val_accuracy: 1.0000\n",
            "Epoch 125/250\n",
            "1/1 - 7s - loss: 0.0364 - accuracy: 0.9956 - val_loss: 0.0074 - val_accuracy: 1.0000\n",
            "Epoch 126/250\n",
            "1/1 - 6s - loss: 0.0334 - accuracy: 0.9956 - val_loss: 0.0084 - val_accuracy: 1.0000\n",
            "Epoch 127/250\n",
            "1/1 - 6s - loss: 0.0424 - accuracy: 0.9956 - val_loss: 0.0085 - val_accuracy: 1.0000\n",
            "Epoch 128/250\n",
            "1/1 - 6s - loss: 0.0884 - accuracy: 0.9781 - val_loss: 0.0073 - val_accuracy: 1.0000\n",
            "Epoch 129/250\n",
            "1/1 - 6s - loss: 0.0390 - accuracy: 0.9956 - val_loss: 0.0055 - val_accuracy: 1.0000\n",
            "Epoch 130/250\n",
            "1/1 - 6s - loss: 0.0377 - accuracy: 1.0000 - val_loss: 0.0041 - val_accuracy: 1.0000\n",
            "Epoch 131/250\n",
            "1/1 - 6s - loss: 0.0455 - accuracy: 0.9956 - val_loss: 0.0028 - val_accuracy: 1.0000\n",
            "Epoch 132/250\n",
            "1/1 - 6s - loss: 0.0272 - accuracy: 1.0000 - val_loss: 0.0023 - val_accuracy: 1.0000\n",
            "Epoch 133/250\n",
            "1/1 - 7s - loss: 0.0460 - accuracy: 0.9912 - val_loss: 0.0022 - val_accuracy: 1.0000\n",
            "Epoch 134/250\n",
            "1/1 - 6s - loss: 0.0176 - accuracy: 1.0000 - val_loss: 0.0022 - val_accuracy: 1.0000\n",
            "Epoch 135/250\n",
            "1/1 - 6s - loss: 0.0424 - accuracy: 0.9868 - val_loss: 0.0025 - val_accuracy: 1.0000\n",
            "Epoch 136/250\n",
            "1/1 - 6s - loss: 0.0396 - accuracy: 0.9868 - val_loss: 0.0032 - val_accuracy: 1.0000\n",
            "Epoch 137/250\n",
            "1/1 - 6s - loss: 0.0279 - accuracy: 0.9956 - val_loss: 0.0044 - val_accuracy: 1.0000\n",
            "Epoch 138/250\n",
            "1/1 - 6s - loss: 0.0262 - accuracy: 1.0000 - val_loss: 0.0062 - val_accuracy: 1.0000\n",
            "Epoch 139/250\n",
            "1/1 - 6s - loss: 0.0512 - accuracy: 0.9825 - val_loss: 0.0069 - val_accuracy: 1.0000\n",
            "Epoch 140/250\n",
            "1/1 - 6s - loss: 0.0317 - accuracy: 0.9956 - val_loss: 0.0069 - val_accuracy: 1.0000\n",
            "Epoch 141/250\n",
            "1/1 - 6s - loss: 0.0497 - accuracy: 0.9825 - val_loss: 0.0046 - val_accuracy: 1.0000\n",
            "Epoch 142/250\n",
            "1/1 - 6s - loss: 0.0314 - accuracy: 1.0000 - val_loss: 0.0029 - val_accuracy: 1.0000\n",
            "Epoch 143/250\n",
            "1/1 - 6s - loss: 0.0276 - accuracy: 1.0000 - val_loss: 0.0021 - val_accuracy: 1.0000\n",
            "Epoch 144/250\n",
            "1/1 - 6s - loss: 0.0260 - accuracy: 0.9956 - val_loss: 0.0017 - val_accuracy: 1.0000\n",
            "Epoch 145/250\n",
            "1/1 - 6s - loss: 0.0543 - accuracy: 0.9781 - val_loss: 0.0017 - val_accuracy: 1.0000\n",
            "Epoch 146/250\n",
            "1/1 - 6s - loss: 0.0358 - accuracy: 0.9956 - val_loss: 0.0018 - val_accuracy: 1.0000\n",
            "Epoch 147/250\n",
            "1/1 - 6s - loss: 0.0348 - accuracy: 0.9912 - val_loss: 0.0023 - val_accuracy: 1.0000\n",
            "Epoch 148/250\n",
            "1/1 - 6s - loss: 0.0435 - accuracy: 0.9912 - val_loss: 0.0029 - val_accuracy: 1.0000\n",
            "Epoch 149/250\n",
            "1/1 - 6s - loss: 0.0411 - accuracy: 0.9868 - val_loss: 0.0035 - val_accuracy: 1.0000\n",
            "Epoch 150/250\n",
            "1/1 - 6s - loss: 0.0249 - accuracy: 0.9956 - val_loss: 0.0053 - val_accuracy: 1.0000\n",
            "Epoch 151/250\n",
            "1/1 - 6s - loss: 0.0480 - accuracy: 0.9868 - val_loss: 0.0057 - val_accuracy: 1.0000\n",
            "Epoch 152/250\n",
            "1/1 - 6s - loss: 0.0198 - accuracy: 1.0000 - val_loss: 0.0052 - val_accuracy: 1.0000\n",
            "Epoch 153/250\n",
            "1/1 - 7s - loss: 0.0397 - accuracy: 0.9868 - val_loss: 0.0035 - val_accuracy: 1.0000\n",
            "Epoch 154/250\n",
            "1/1 - 6s - loss: 0.0229 - accuracy: 0.9956 - val_loss: 0.0026 - val_accuracy: 1.0000\n",
            "Epoch 155/250\n",
            "1/1 - 6s - loss: 0.0405 - accuracy: 0.9912 - val_loss: 0.0023 - val_accuracy: 1.0000\n",
            "Epoch 156/250\n",
            "1/1 - 6s - loss: 0.0462 - accuracy: 0.9781 - val_loss: 0.0024 - val_accuracy: 1.0000\n",
            "Epoch 157/250\n",
            "1/1 - 7s - loss: 0.0309 - accuracy: 0.9912 - val_loss: 0.0026 - val_accuracy: 1.0000\n",
            "Epoch 158/250\n",
            "1/1 - 6s - loss: 0.0260 - accuracy: 0.9956 - val_loss: 0.0028 - val_accuracy: 1.0000\n",
            "Epoch 159/250\n",
            "1/1 - 6s - loss: 0.0228 - accuracy: 1.0000 - val_loss: 0.0025 - val_accuracy: 1.0000\n",
            "Epoch 160/250\n",
            "1/1 - 6s - loss: 0.0282 - accuracy: 0.9956 - val_loss: 0.0021 - val_accuracy: 1.0000\n",
            "Epoch 161/250\n",
            "1/1 - 6s - loss: 0.0252 - accuracy: 0.9956 - val_loss: 0.0020 - val_accuracy: 1.0000\n",
            "Epoch 162/250\n",
            "1/1 - 6s - loss: 0.0200 - accuracy: 1.0000 - val_loss: 0.0021 - val_accuracy: 1.0000\n",
            "Epoch 163/250\n",
            "1/1 - 6s - loss: 0.0360 - accuracy: 0.9912 - val_loss: 0.0025 - val_accuracy: 1.0000\n",
            "Epoch 164/250\n",
            "1/1 - 6s - loss: 0.0182 - accuracy: 1.0000 - val_loss: 0.0031 - val_accuracy: 1.0000\n",
            "Epoch 165/250\n",
            "1/1 - 6s - loss: 0.0174 - accuracy: 0.9956 - val_loss: 0.0037 - val_accuracy: 1.0000\n",
            "Epoch 166/250\n",
            "1/1 - 6s - loss: 0.0354 - accuracy: 0.9912 - val_loss: 0.0042 - val_accuracy: 1.0000\n",
            "Epoch 167/250\n",
            "1/1 - 6s - loss: 0.0148 - accuracy: 1.0000 - val_loss: 0.0052 - val_accuracy: 1.0000\n",
            "Epoch 168/250\n",
            "1/1 - 6s - loss: 0.0448 - accuracy: 0.9868 - val_loss: 0.0056 - val_accuracy: 1.0000\n",
            "Epoch 169/250\n",
            "1/1 - 6s - loss: 0.0220 - accuracy: 0.9956 - val_loss: 0.0049 - val_accuracy: 1.0000\n",
            "Epoch 170/250\n",
            "1/1 - 6s - loss: 0.0379 - accuracy: 0.9912 - val_loss: 0.0042 - val_accuracy: 1.0000\n",
            "Epoch 171/250\n",
            "1/1 - 6s - loss: 0.0161 - accuracy: 1.0000 - val_loss: 0.0034 - val_accuracy: 1.0000\n",
            "Epoch 172/250\n",
            "1/1 - 6s - loss: 0.0223 - accuracy: 0.9956 - val_loss: 0.0032 - val_accuracy: 1.0000\n",
            "Epoch 173/250\n",
            "1/1 - 6s - loss: 0.0241 - accuracy: 0.9956 - val_loss: 0.0031 - val_accuracy: 1.0000\n",
            "Epoch 174/250\n",
            "1/1 - 6s - loss: 0.0282 - accuracy: 0.9868 - val_loss: 0.0029 - val_accuracy: 1.0000\n",
            "Epoch 175/250\n",
            "1/1 - 6s - loss: 0.0192 - accuracy: 0.9956 - val_loss: 0.0029 - val_accuracy: 1.0000\n",
            "Epoch 176/250\n",
            "1/1 - 6s - loss: 0.0212 - accuracy: 1.0000 - val_loss: 0.0035 - val_accuracy: 1.0000\n",
            "Epoch 177/250\n",
            "1/1 - 6s - loss: 0.0376 - accuracy: 0.9912 - val_loss: 0.0043 - val_accuracy: 1.0000\n",
            "Epoch 178/250\n",
            "1/1 - 6s - loss: 0.0364 - accuracy: 0.9868 - val_loss: 0.0043 - val_accuracy: 1.0000\n",
            "Epoch 179/250\n",
            "1/1 - 6s - loss: 0.0107 - accuracy: 1.0000 - val_loss: 0.0044 - val_accuracy: 1.0000\n",
            "Epoch 180/250\n",
            "1/1 - 6s - loss: 0.0365 - accuracy: 0.9912 - val_loss: 0.0057 - val_accuracy: 1.0000\n",
            "Epoch 181/250\n",
            "1/1 - 7s - loss: 0.0265 - accuracy: 0.9912 - val_loss: 0.0067 - val_accuracy: 1.0000\n",
            "Epoch 182/250\n",
            "1/1 - 6s - loss: 0.0119 - accuracy: 1.0000 - val_loss: 0.0076 - val_accuracy: 1.0000\n",
            "Epoch 183/250\n",
            "1/1 - 6s - loss: 0.0160 - accuracy: 0.9956 - val_loss: 0.0085 - val_accuracy: 1.0000\n",
            "Epoch 184/250\n",
            "1/1 - 6s - loss: 0.0289 - accuracy: 0.9912 - val_loss: 0.0072 - val_accuracy: 1.0000\n",
            "Epoch 185/250\n",
            "1/1 - 6s - loss: 0.0327 - accuracy: 0.9868 - val_loss: 0.0040 - val_accuracy: 1.0000\n",
            "Epoch 186/250\n",
            "1/1 - 6s - loss: 0.0180 - accuracy: 1.0000 - val_loss: 0.0023 - val_accuracy: 1.0000\n",
            "Epoch 187/250\n",
            "1/1 - 6s - loss: 0.0152 - accuracy: 0.9956 - val_loss: 0.0014 - val_accuracy: 1.0000\n",
            "Epoch 188/250\n",
            "1/1 - 6s - loss: 0.0100 - accuracy: 1.0000 - val_loss: 0.0011 - val_accuracy: 1.0000\n",
            "Epoch 189/250\n",
            "1/1 - 7s - loss: 0.0157 - accuracy: 0.9956 - val_loss: 9.0579e-04 - val_accuracy: 1.0000\n",
            "Epoch 190/250\n",
            "1/1 - 6s - loss: 0.0190 - accuracy: 0.9956 - val_loss: 9.0346e-04 - val_accuracy: 1.0000\n",
            "Epoch 191/250\n",
            "1/1 - 6s - loss: 0.0212 - accuracy: 0.9956 - val_loss: 0.0010 - val_accuracy: 1.0000\n",
            "Epoch 192/250\n",
            "1/1 - 6s - loss: 0.0175 - accuracy: 1.0000 - val_loss: 0.0013 - val_accuracy: 1.0000\n",
            "Epoch 193/250\n",
            "1/1 - 7s - loss: 0.0170 - accuracy: 1.0000 - val_loss: 0.0019 - val_accuracy: 1.0000\n",
            "Epoch 194/250\n",
            "1/1 - 6s - loss: 0.0215 - accuracy: 0.9912 - val_loss: 0.0025 - val_accuracy: 1.0000\n",
            "Epoch 195/250\n",
            "1/1 - 6s - loss: 0.0259 - accuracy: 0.9956 - val_loss: 0.0030 - val_accuracy: 1.0000\n",
            "Epoch 196/250\n",
            "1/1 - 6s - loss: 0.0187 - accuracy: 0.9956 - val_loss: 0.0028 - val_accuracy: 1.0000\n",
            "Epoch 197/250\n",
            "1/1 - 7s - loss: 0.0119 - accuracy: 1.0000 - val_loss: 0.0025 - val_accuracy: 1.0000\n",
            "Epoch 198/250\n",
            "1/1 - 6s - loss: 0.0271 - accuracy: 0.9912 - val_loss: 0.0017 - val_accuracy: 1.0000\n",
            "Epoch 199/250\n",
            "1/1 - 6s - loss: 0.0414 - accuracy: 0.9825 - val_loss: 8.0070e-04 - val_accuracy: 1.0000\n",
            "Epoch 200/250\n",
            "1/1 - 6s - loss: 0.0207 - accuracy: 0.9956 - val_loss: 5.9007e-04 - val_accuracy: 1.0000\n",
            "Epoch 201/250\n",
            "1/1 - 7s - loss: 0.0269 - accuracy: 0.9956 - val_loss: 5.3531e-04 - val_accuracy: 1.0000\n",
            "Epoch 202/250\n",
            "1/1 - 6s - loss: 0.0365 - accuracy: 0.9868 - val_loss: 6.2161e-04 - val_accuracy: 1.0000\n",
            "Epoch 203/250\n",
            "1/1 - 6s - loss: 0.0144 - accuracy: 1.0000 - val_loss: 9.0641e-04 - val_accuracy: 1.0000\n",
            "Epoch 204/250\n",
            "1/1 - 6s - loss: 0.0213 - accuracy: 0.9956 - val_loss: 0.0015 - val_accuracy: 1.0000\n",
            "Epoch 205/250\n",
            "1/1 - 6s - loss: 0.0191 - accuracy: 0.9956 - val_loss: 0.0027 - val_accuracy: 1.0000\n",
            "Epoch 206/250\n",
            "1/1 - 6s - loss: 0.0117 - accuracy: 1.0000 - val_loss: 0.0043 - val_accuracy: 1.0000\n",
            "Epoch 207/250\n",
            "1/1 - 7s - loss: 0.0266 - accuracy: 0.9868 - val_loss: 0.0059 - val_accuracy: 1.0000\n",
            "Epoch 208/250\n",
            "1/1 - 6s - loss: 0.0151 - accuracy: 1.0000 - val_loss: 0.0066 - val_accuracy: 1.0000\n",
            "Epoch 209/250\n",
            "1/1 - 7s - loss: 0.0097 - accuracy: 1.0000 - val_loss: 0.0066 - val_accuracy: 1.0000\n",
            "Epoch 210/250\n",
            "1/1 - 6s - loss: 0.0164 - accuracy: 0.9956 - val_loss: 0.0062 - val_accuracy: 1.0000\n",
            "Epoch 211/250\n",
            "1/1 - 7s - loss: 0.0229 - accuracy: 0.9956 - val_loss: 0.0059 - val_accuracy: 1.0000\n",
            "Epoch 212/250\n",
            "1/1 - 6s - loss: 0.0106 - accuracy: 1.0000 - val_loss: 0.0045 - val_accuracy: 1.0000\n",
            "Epoch 213/250\n",
            "1/1 - 6s - loss: 0.0200 - accuracy: 0.9956 - val_loss: 0.0032 - val_accuracy: 1.0000\n",
            "Epoch 214/250\n",
            "1/1 - 6s - loss: 0.0251 - accuracy: 0.9956 - val_loss: 0.0026 - val_accuracy: 1.0000\n",
            "Epoch 215/250\n",
            "1/1 - 6s - loss: 0.0204 - accuracy: 0.9956 - val_loss: 0.0019 - val_accuracy: 1.0000\n",
            "Epoch 216/250\n",
            "1/1 - 6s - loss: 0.0128 - accuracy: 1.0000 - val_loss: 0.0015 - val_accuracy: 1.0000\n",
            "Epoch 217/250\n",
            "1/1 - 7s - loss: 0.0095 - accuracy: 0.9956 - val_loss: 0.0012 - val_accuracy: 1.0000\n",
            "Epoch 218/250\n",
            "1/1 - 6s - loss: 0.0244 - accuracy: 0.9912 - val_loss: 0.0011 - val_accuracy: 1.0000\n",
            "Epoch 219/250\n",
            "1/1 - 7s - loss: 0.0135 - accuracy: 1.0000 - val_loss: 0.0011 - val_accuracy: 1.0000\n",
            "Epoch 220/250\n",
            "1/1 - 6s - loss: 0.0127 - accuracy: 0.9956 - val_loss: 0.0014 - val_accuracy: 1.0000\n",
            "Epoch 221/250\n",
            "1/1 - 7s - loss: 0.0127 - accuracy: 1.0000 - val_loss: 0.0021 - val_accuracy: 1.0000\n",
            "Epoch 222/250\n",
            "1/1 - 6s - loss: 0.0205 - accuracy: 0.9956 - val_loss: 0.0027 - val_accuracy: 1.0000\n",
            "Epoch 223/250\n",
            "1/1 - 7s - loss: 0.0181 - accuracy: 0.9956 - val_loss: 0.0033 - val_accuracy: 1.0000\n",
            "Epoch 224/250\n",
            "1/1 - 6s - loss: 0.0108 - accuracy: 1.0000 - val_loss: 0.0037 - val_accuracy: 1.0000\n",
            "Epoch 225/250\n",
            "1/1 - 7s - loss: 0.0280 - accuracy: 0.9912 - val_loss: 0.0027 - val_accuracy: 1.0000\n",
            "Epoch 226/250\n",
            "1/1 - 6s - loss: 0.0132 - accuracy: 1.0000 - val_loss: 0.0019 - val_accuracy: 1.0000\n",
            "Epoch 227/250\n",
            "1/1 - 7s - loss: 0.0173 - accuracy: 0.9956 - val_loss: 0.0013 - val_accuracy: 1.0000\n",
            "Epoch 228/250\n",
            "1/1 - 6s - loss: 0.0229 - accuracy: 0.9912 - val_loss: 8.2373e-04 - val_accuracy: 1.0000\n",
            "Epoch 229/250\n",
            "1/1 - 6s - loss: 0.0225 - accuracy: 0.9912 - val_loss: 6.6636e-04 - val_accuracy: 1.0000\n",
            "Epoch 230/250\n",
            "1/1 - 6s - loss: 0.0245 - accuracy: 0.9956 - val_loss: 7.2447e-04 - val_accuracy: 1.0000\n",
            "Epoch 231/250\n",
            "1/1 - 6s - loss: 0.0142 - accuracy: 1.0000 - val_loss: 7.8510e-04 - val_accuracy: 1.0000\n",
            "Epoch 232/250\n",
            "1/1 - 6s - loss: 0.0219 - accuracy: 0.9956 - val_loss: 8.6591e-04 - val_accuracy: 1.0000\n",
            "Epoch 233/250\n",
            "1/1 - 6s - loss: 0.0098 - accuracy: 1.0000 - val_loss: 0.0011 - val_accuracy: 1.0000\n",
            "Epoch 234/250\n",
            "1/1 - 6s - loss: 0.0076 - accuracy: 1.0000 - val_loss: 0.0014 - val_accuracy: 1.0000\n",
            "Epoch 235/250\n",
            "1/1 - 6s - loss: 0.0110 - accuracy: 1.0000 - val_loss: 0.0017 - val_accuracy: 1.0000\n",
            "Epoch 236/250\n",
            "1/1 - 6s - loss: 0.0121 - accuracy: 1.0000 - val_loss: 0.0019 - val_accuracy: 1.0000\n",
            "Epoch 237/250\n",
            "1/1 - 6s - loss: 0.0181 - accuracy: 0.9956 - val_loss: 0.0018 - val_accuracy: 1.0000\n",
            "Epoch 238/250\n",
            "1/1 - 6s - loss: 0.0243 - accuracy: 0.9868 - val_loss: 0.0018 - val_accuracy: 1.0000\n",
            "Epoch 239/250\n",
            "1/1 - 6s - loss: 0.0095 - accuracy: 1.0000 - val_loss: 0.0015 - val_accuracy: 1.0000\n",
            "Epoch 240/250\n",
            "1/1 - 6s - loss: 0.0244 - accuracy: 0.9912 - val_loss: 0.0013 - val_accuracy: 1.0000\n",
            "Epoch 241/250\n",
            "1/1 - 6s - loss: 0.0136 - accuracy: 1.0000 - val_loss: 0.0012 - val_accuracy: 1.0000\n",
            "Epoch 242/250\n",
            "1/1 - 6s - loss: 0.0119 - accuracy: 0.9956 - val_loss: 0.0012 - val_accuracy: 1.0000\n",
            "Epoch 243/250\n",
            "1/1 - 6s - loss: 0.0214 - accuracy: 0.9912 - val_loss: 0.0010 - val_accuracy: 1.0000\n",
            "Epoch 244/250\n",
            "1/1 - 6s - loss: 0.0109 - accuracy: 1.0000 - val_loss: 9.8417e-04 - val_accuracy: 1.0000\n",
            "Epoch 245/250\n",
            "1/1 - 6s - loss: 0.0062 - accuracy: 1.0000 - val_loss: 9.8953e-04 - val_accuracy: 1.0000\n",
            "Epoch 246/250\n",
            "1/1 - 6s - loss: 0.0133 - accuracy: 0.9956 - val_loss: 8.7412e-04 - val_accuracy: 1.0000\n",
            "Epoch 247/250\n",
            "1/1 - 6s - loss: 0.0097 - accuracy: 0.9956 - val_loss: 9.3776e-04 - val_accuracy: 1.0000\n",
            "Epoch 248/250\n",
            "1/1 - 6s - loss: 0.0092 - accuracy: 0.9956 - val_loss: 0.0011 - val_accuracy: 1.0000\n",
            "Epoch 249/250\n",
            "1/1 - 6s - loss: 0.0097 - accuracy: 1.0000 - val_loss: 0.0011 - val_accuracy: 1.0000\n",
            "Epoch 250/250\n",
            "1/1 - 6s - loss: 0.0175 - accuracy: 0.9956 - val_loss: 0.0011 - val_accuracy: 1.0000\n"
          ],
          "name": "stdout"
        }
      ]
    },
    {
      "cell_type": "code",
      "metadata": {
        "colab": {
          "base_uri": "https://localhost:8080/"
        },
        "id": "WaEzmzCkmFxY",
        "outputId": "1e66651e-51c3-41fc-e352-3774ba549cc2"
      },
      "source": [
        "Evaluation = model.evaluate(np.array(x_test), np.array(y_test), verbose = 0)\n",
        "print('test loss:' , Evaluation[0])\n",
        "print('test accuracy:', Evaluation[1])"
      ],
      "execution_count": 24,
      "outputs": [
        {
          "output_type": "stream",
          "text": [
            "test loss: 0.37049832940101624\n",
            "test accuracy: 0.918749988079071\n"
          ],
          "name": "stdout"
        }
      ]
    },
    {
      "cell_type": "code",
      "metadata": {
        "colab": {
          "base_uri": "https://localhost:8080/"
        },
        "id": "Qw3yH_IL-qmJ",
        "outputId": "259ad26e-2c34-4cab-d61e-aa8ff8d65574"
      },
      "source": [
        "print(training.history.keys())"
      ],
      "execution_count": 25,
      "outputs": [
        {
          "output_type": "stream",
          "text": [
            "dict_keys(['loss', 'accuracy', 'val_loss', 'val_accuracy'])\n"
          ],
          "name": "stdout"
        }
      ]
    },
    {
      "cell_type": "code",
      "metadata": {
        "colab": {
          "base_uri": "https://localhost:8080/",
          "height": 295
        },
        "id": "qrCNgyLy4FVG",
        "outputId": "5aab8476-693e-4d97-da5c-0d51b166a00c"
      },
      "source": [
        "#History for accuracy\n",
        "plt.plot(training.history['accuracy'])\n",
        "plt.plot(training.history['val_accuracy'])\n",
        "plt.title('model accuracy')\n",
        "plt.ylabel('accuracy')\n",
        "plt.xlabel('epoch')\n",
        "plt.legend(['train', 'test'], loc='lower right')\n",
        "plt.show()"
      ],
      "execution_count": 39,
      "outputs": [
        {
          "output_type": "display_data",
          "data": {
            "image/png": "[encoded data removed]",
            "text/plain": [
              "<Figure size 432x288 with 1 Axes>"
            ]
          },
          "metadata": {
            "tags": [],
            "needs_background": "light"
          }
        }
      ]
    },
    {
      "cell_type": "code",
      "metadata": {
        "colab": {
          "base_uri": "https://localhost:8080/",
          "height": 295
        },
        "id": "-KlKcpo1-O4a",
        "outputId": "e86fed05-7ce0-4771-c728-836d17dadfef"
      },
      "source": [
        "#history for loss\n",
        "plt.plot(training.history['loss'])\n",
        "plt.plot(training.history['val_loss'])\n",
        "plt.title('model loss')\n",
        "plt.ylabel('loss')\n",
        "plt.xlabel('epoch')\n",
        "plt.legend(['train', 'test'], loc='upper right')\n",
        "plt.show()"
      ],
      "execution_count": 29,
      "outputs": [
        {
          "output_type": "display_data",
          "data": {
            "image/png": "[encoded data removed]",
            "text/plain": [
              "<Figure size 432x288 with 1 Axes>"
            ]
          },
          "metadata": {
            "tags": [],
            "needs_background": "light"
          }
        }
      ]
    },
    {
      "cell_type": "code",
      "metadata": {
        "id": "S1JxJraG-eO-"
      },
      "source": [
        ""
      ],
      "execution_count": null,
      "outputs": []
    }
  ]
}